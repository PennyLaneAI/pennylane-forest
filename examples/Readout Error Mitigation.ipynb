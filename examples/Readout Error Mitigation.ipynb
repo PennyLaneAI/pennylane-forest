{
 "cells": [
  {
   "cell_type": "markdown",
   "metadata": {},
   "source": [
    "This notebook demonstrates how to perform readout error mitigation on a physical QPU using PennyLane-Forest. Readout error refers to the non-zero probability that a qubit's state may be read out as something other than the one that was actually sampled.<br>\n",
    "<br>\n",
    "For example, for a single qubit, we may sample some prepared state to produce the outcome `0` but actually read it out as a `1`. In conventional notation, the non-zero probability of such an event occuring is denoted by the conditional probability `p(1|0)`. More generally, we have non-zero probabilities `p(i|j)` of reading out `i` while having actually sampled `j`. On a perfect device, `p(0|0) = p(1|1) = 1`."
   ]
  },
  {
   "cell_type": "code",
   "execution_count": null,
   "metadata": {},
   "outputs": [],
   "source": [
    "%matplotlib inline\n",
    "import matplotlib.pyplot as plt\n",
    "\n",
    "from pennylane_forest.qpu import QPUDevice\n",
    "from pennylane import numpy as np\n",
    "import pennylane as qml"
   ]
  },
  {
   "cell_type": "markdown",
   "metadata": {},
   "source": [
    "Specify the name of the QPU device below (make sure qubit 0 exists on this lattice)."
   ]
  },
  {
   "cell_type": "code",
   "execution_count": null,
   "metadata": {},
   "outputs": [],
   "source": [
    "device_name = 'Aspen-4-4Q-A'"
   ]
  },
  {
   "cell_type": "markdown",
   "metadata": {},
   "source": [
    "Initialize two devices, one with the ability to carry out readout error mitigation and the other without."
   ]
  },
  {
   "cell_type": "code",
   "execution_count": null,
   "metadata": {},
   "outputs": [],
   "source": [
    "# a device that does not carry out any read out error mitigation\n",
    "dev_err = qml.device('forest.qpu', device=device_name,\n",
    "                    symmetrize_readout=None, calibrate_readout=None)\n",
    "\n",
    "# a device that carries out any read out error mitigation\n",
    "dev_no_err = qml.device('forest.qpu', device=device_name)"
   ]
  },
  {
   "cell_type": "markdown",
   "metadata": {},
   "source": [
    "Define a fairly simple circuit that calculates the expectation value $\\langle 0 \\vert\\, RY^{\\dagger}(\\theta)\\cdot Z \\cdot RY(\\theta) \\, \\vert 0 \\rangle$."
   ]
  },
  {
   "cell_type": "code",
   "execution_count": null,
   "metadata": {},
   "outputs": [],
   "source": [
    "def circuit(theta):\n",
    "    qml.RX(theta, wires=0)\n",
    "    return qml.expval(qml.PauliZ(0))"
   ]
  },
  {
   "cell_type": "markdown",
   "metadata": {},
   "source": [
    "Create two different versions of this circuit, one that automatically carries out readout error mitigation and one that simply calculates the expectation value from the shots/measurements data it receives."
   ]
  },
  {
   "cell_type": "code",
   "execution_count": null,
   "metadata": {},
   "outputs": [],
   "source": [
    "# circuit that gives results with readout errors\n",
    "circuit_err = qml.QNode(circuit, dev_err)\n",
    "# circuit that corrects for readout errors\n",
    "circuit_no_err = qml.QNode(circuit, dev_no_err)"
   ]
  },
  {
   "cell_type": "markdown",
   "metadata": {},
   "source": [
    "Define a helper function to calculate the ideal/exact results."
   ]
  },
  {
   "cell_type": "code",
   "execution_count": null,
   "metadata": {},
   "outputs": [],
   "source": [
    "def ideal_result(theta):\n",
    "    return np.square(np.cos(theta/2)) - np.square(np.sin(theta/2))"
   ]
  },
  {
   "cell_type": "markdown",
   "metadata": {},
   "source": [
    "Calculate expectation values on both devices, while also calculating ideal results, for various values of theta."
   ]
  },
  {
   "cell_type": "code",
   "execution_count": null,
   "metadata": {},
   "outputs": [],
   "source": [
    "angles = np.linspace(0.0, 2 * np.pi, 50)\n",
    "\n",
    "err_Zs = []\n",
    "no_err_Zs = []\n",
    "ideal_results = []\n",
    "\n",
    "for angle in angles:\n",
    "    err_Zs.append(circuit_err(angle))\n",
    "    no_err_Zs.append(circuit_no_err(angle))\n",
    "    ideal_results.append(ideal_result(angle))"
   ]
  },
  {
   "cell_type": "markdown",
   "metadata": {},
   "source": [
    "Using the above results, calculate the values of $(1 - \\langle Z \\rangle)\\, / \\,2$ for various values of $\\theta$."
   ]
  },
  {
   "cell_type": "code",
   "execution_count": null,
   "metadata": {},
   "outputs": [],
   "source": [
    "results_err = 0.5 * (1.0 - np.array(err_Zs))\n",
    "results_no_err = 0.5 * (1.0 - np.array(no_err_Zs))\n",
    "ideal_results = 0.5 * (1.0 - np.array(ideal_results))"
   ]
  },
  {
   "cell_type": "markdown",
   "metadata": {},
   "source": [
    "Finally, plot all the results on the same figure."
   ]
  },
  {
   "cell_type": "code",
   "execution_count": null,
   "metadata": {},
   "outputs": [],
   "source": [
    "plt.figure(figsize=(16, 12))\n",
    "plt.plot(angles, results_err, label='Readout errors')\n",
    "plt.scatter(angles, results_no_err, marker='x', c='r', label='Readout errors corrected')\n",
    "plt.plot(angles, ideal_results, label='Ideal results')\n",
    "plt.legend(loc='best')\n",
    "plt.show()"
   ]
  },
  {
   "cell_type": "markdown",
   "metadata": {},
   "source": [
    "You should find that the results with readout error mitigation are closer to the ideal values than those without any correction/mitigation. In reality, there are other errors on the physical device beyond readout errors, but this technique helps us get better results for problems involving the calculation of expectation values of observables."
   ]
  }
 ],
 "metadata": {
  "kernelspec": {
   "display_name": "Python 3",
   "language": "python",
   "name": "python3"
  },
  "language_info": {
   "codemirror_mode": {
    "name": "ipython",
    "version": 3
   },
   "file_extension": ".py",
   "mimetype": "text/x-python",
   "name": "python",
   "nbconvert_exporter": "python",
   "pygments_lexer": "ipython3",
   "version": "3.6.6"
  }
 },
 "nbformat": 4,
 "nbformat_minor": 2
}
