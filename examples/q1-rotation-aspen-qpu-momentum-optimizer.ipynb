{
 "cells": [
  {
   "cell_type": "markdown",
   "metadata": {},
   "source": [
    "# preface"
   ]
  },
  {
   "cell_type": "raw",
   "metadata": {},
   "source": [
    "this example is based on the following pennylane example:\n",
    "https://github.com/XanaduAI/pennylane/blob/master/examples/Q1_qubit-rotation.ipynb\n",
    "        \n",
    "the specific modifications here are such that one can run this example on a Rigetti Aspen QPU"
   ]
  },
  {
   "cell_type": "markdown",
   "metadata": {},
   "source": [
    "# for plotting"
   ]
  },
  {
   "cell_type": "code",
   "execution_count": null,
   "metadata": {},
   "outputs": [],
   "source": [
    "from IPython import display\n",
    "\n",
    "import numpy as np\n",
    "import matplotlib.pyplot as plt\n",
    "%matplotlib inline\n",
    "\n",
    "import seaborn as sns\n",
    "\n",
    "from mpl_toolkits.mplot3d import Axes3D\n",
    "\n",
    "import time\n",
    "\n",
    "from pyquil.quil import Program"
   ]
  },
  {
   "cell_type": "code",
   "execution_count": null,
   "metadata": {},
   "outputs": [],
   "source": [
    "def get_fig():\n",
    "    fig = plt.figure(figsize=(10, 10))\n",
    "    ax = fig.add_subplot(111, projection='3d')\n",
    "    ax.set_aspect('equal')\n",
    "\n",
    "    ax.quiver(0, 0, 0, 1, 0, 0, arrow_length_ratio=.1, color='k')\n",
    "    ax.quiver(0, 0, 0, -1, 0, 0, arrow_length_ratio=.1, color='k')\n",
    "    ax.quiver(0, 0, 0, 0, 1, 0, arrow_length_ratio=.1, color='k')\n",
    "    ax.quiver(0, 0, 0, 0, -1, 0, arrow_length_ratio=.1, color='k')\n",
    "    ax.quiver(0, 0, 0, 0, 0, 1, arrow_length_ratio=.1, color='k')\n",
    "    ax.quiver(0, 0, 0, 0, 0, -1, arrow_length_ratio=.1, color='k')\n",
    "    ax.set_xlim([-1, 1])\n",
    "    ax.set_ylim([-1, 1])\n",
    "    ax.set_zlim([-1, 1])\n",
    "\n",
    "    ax.set_ylabel(r'$y$')\n",
    "    ax.set_xlabel(r'$x$')\n",
    "    ax.set_zlabel(r'$z$')\n",
    "    \n",
    "    ax.xaxis.pane.set_edgecolor('black')\n",
    "    ax.yaxis.pane.set_edgecolor('black')\n",
    "    ax.xaxis.pane.fill = False;\n",
    "    ax.yaxis.pane.fill = False;\n",
    "    ax.zaxis.pane.fill = False;\n",
    "    ax.view_init(5, 30);\n",
    "    ax.grid(False);\n",
    "    \n",
    "    return fig, ax"
   ]
  },
  {
   "cell_type": "code",
   "execution_count": null,
   "metadata": {},
   "outputs": [],
   "source": [
    "cpal = sns.color_palette('viridis', 200)"
   ]
  },
  {
   "cell_type": "markdown",
   "metadata": {},
   "source": [
    "# experiment"
   ]
  },
  {
   "cell_type": "markdown",
   "metadata": {},
   "source": [
    "### import pennylane and the pennylane momentum optimizer"
   ]
  },
  {
   "cell_type": "code",
   "execution_count": null,
   "metadata": {},
   "outputs": [],
   "source": [
    "import pennylane as qml\n",
    "from pennylane import numpy as np"
   ]
  },
  {
   "cell_type": "code",
   "execution_count": null,
   "metadata": {},
   "outputs": [],
   "source": [
    "from pennylane.optimize import MomentumOptimizer"
   ]
  },
  {
   "cell_type": "markdown",
   "metadata": {},
   "source": [
    "### create forest QPU device, using the Aspen-1-15Q-A lattice"
   ]
  },
  {
   "cell_type": "code",
   "execution_count": null,
   "metadata": {},
   "outputs": [],
   "source": [
    "# note that, for this example, we can book any QPU lattice, not necessarily just Aspen-1-15Q-A\n",
    "\n",
    "dev = qml.device('forest.qpu', \n",
    "                 device='Aspen-1-15Q-A', \n",
    "                 shots=100,\n",
    "                 active_reset=True)"
   ]
  },
  {
   "cell_type": "markdown",
   "metadata": {},
   "source": [
    "### define the circuit and objective function"
   ]
  },
  {
   "cell_type": "code",
   "execution_count": null,
   "metadata": {},
   "outputs": [],
   "source": [
    "@qml.qnode(dev) \n",
    "def circuit(var):\n",
    "    qml.RX(var[0], wires=0) \n",
    "    qml.RY(var[1], wires=0)\n",
    "    return qml.expval.PauliZ(0)"
   ]
  },
  {
   "cell_type": "code",
   "execution_count": null,
   "metadata": {},
   "outputs": [],
   "source": [
    "def objective(var):\n",
    "    return circuit(var)"
   ]
  },
  {
   "cell_type": "markdown",
   "metadata": {},
   "source": [
    "### initialize optimizer object, define initial parameters and number of optimization iterations"
   ]
  },
  {
   "cell_type": "code",
   "execution_count": null,
   "metadata": {},
   "outputs": [],
   "source": [
    "optimizer = MomentumOptimizer()"
   ]
  },
  {
   "cell_type": "code",
   "execution_count": null,
   "metadata": {},
   "outputs": [],
   "source": [
    "rx_0 = -0.02\n",
    "ry_0 = -0.02\n",
    "\n",
    "n_iterations = 200"
   ]
  },
  {
   "cell_type": "markdown",
   "metadata": {},
   "source": [
    "### for n_iterations iterations, use the momentum optimizer to find the parameters that will flip the qubit"
   ]
  },
  {
   "cell_type": "code",
   "execution_count": null,
   "metadata": {
    "scrolled": false
   },
   "outputs": [],
   "source": [
    "fig, ax = get_fig()\n",
    "\n",
    "var = np.array([rx_0, ry_0])\n",
    "\n",
    "\n",
    "for iteration in range(n_iterations):\n",
    "    var = optimizer.step(objective, var)\n",
    "    \n",
    "    if iteration % 2 == 0: \n",
    "        pauli_z = objective(var)\n",
    "        \n",
    "        x = np.sin(var[0])*np.cos(var[1])\n",
    "        y = np.sin(var[1])*np.cos(var[0])\n",
    "        z = np.cos(var[0])\n",
    "        qubit = ax.quiver(0, 0, 0, x, y, z, arrow_length_ratio=.1, \n",
    "                          color=cpal[iteration])\n",
    "\n",
    "        program = Program(dev.program)\n",
    "        txt = ax.text(1, 1, .5, program.out());\n",
    "\n",
    "        display.clear_output(wait=True)\n",
    "        display.display(fig)\n",
    "        time.sleep(0.01)\n",
    "        \n",
    "        txt.remove()\n",
    "        \n",
    "plt.close('all')"
   ]
  },
  {
   "cell_type": "code",
   "execution_count": null,
   "metadata": {},
   "outputs": [],
   "source": []
  }
 ],
 "metadata": {
  "kernelspec": {
   "display_name": "Python 3",
   "language": "python",
   "name": "python3"
  },
  "language_info": {
   "codemirror_mode": {
    "name": "ipython",
    "version": 3
   },
   "file_extension": ".py",
   "mimetype": "text/x-python",
   "name": "python",
   "nbconvert_exporter": "python",
   "pygments_lexer": "ipython3",
   "version": "3.6.7"
  }
 },
 "nbformat": 4,
 "nbformat_minor": 2
}
